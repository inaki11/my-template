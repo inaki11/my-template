{
 "cells": [
  {
   "cell_type": "code",
   "execution_count": 1,
   "id": "0a16c0a0",
   "metadata": {},
   "outputs": [],
   "source": [
    "from omegaconf import OmegaConf\n",
    "import argparse\n",
    "from models import get_model\n",
    "from data import get_dataloaders\n",
    "from optimizers import get_optimizer\n",
    "from losses import get_loss\n",
    "from schedulers import get_scheduler\n",
    "from metrics import get_metrics\n",
    "from callbacks import get_callbacks\n",
    "from trainers.base_trainer import BaseTrainer\n",
    "from utils.logger import setup_logger\n",
    "from utils.seed import seed_everything\n",
    "from utils.get_experiment_id import get_experiment_id\n",
    "from utils.load_checkpoint import load_checkpoint\n",
    "import torch"
   ]
  },
  {
   "cell_type": "code",
   "execution_count": 2,
   "id": "4ee1f696",
   "metadata": {},
   "outputs": [
    {
     "name": "stderr",
     "output_type": "stream",
     "text": [
      "2025-05-06 01:52:55,143 - Configuración cargada:\n",
      "2025-05-06 01:52:55,148 - dataset:\n",
      "  name: CIFAR10\n",
      "  root: ./data/datasets\n",
      "  batch_size: 256\n",
      "  num_workers: 4\n",
      "model:\n",
      "  name: resnet18\n",
      "  weights: ResNet18_Weights.DEFAULT\n",
      "  num_classes: 10\n",
      "preprocessing:\n",
      "- name: to_tensor\n",
      "loss:\n",
      "  name: cross_entropy\n",
      "optimizer:\n",
      "  name: adam\n",
      "  lr: 0.01\n",
      "  weight_decay: 0.0001\n",
      "  scheduler: step\n",
      "  step_size: 10\n",
      "  gamma: 0.1\n",
      "training:\n",
      "  epochs: 10\n",
      "  batch_size: 256\n",
      "  num_workers: 4\n",
      "  seed: 42\n",
      "  device: cuda\n",
      "scheduler:\n",
      "  name: reduce_on_plateau\n",
      "  patience: 2\n",
      "  factor: 0.1\n",
      "metrics:\n",
      "- name: f1_score\n",
      "  average: weighted\n",
      "callbacks:\n",
      "- name: checkpoint\n",
      "  dirpath: checkpoints/\n",
      "  monitor: loss\n",
      "  mode: min\n",
      "experiment_id: resnet18_bef64961\n",
      "\n"
     ]
    },
    {
     "name": "stdout",
     "output_type": "stream",
     "text": [
      "Files already downloaded and verified\n",
      "Files already downloaded and verified\n"
     ]
    }
   ],
   "source": [
    "config = OmegaConf.load('configs/example.yaml')\n",
    "config.experiment_id = get_experiment_id(config)\n",
    "seed_everything(config.training.seed)\n",
    "logger = setup_logger()\n",
    "logger.info(\"Configuración cargada:\")\n",
    "logger.info(OmegaConf.to_yaml(config))\n",
    "\n",
    "# Configuración cuda                            \n",
    "# TO DO: Cambiarlo a una forma mas adecuada, y seleccionar la gpu que se quiera usar\n",
    "if config.training.device == \"cuda\":\n",
    "        device = \"cuda\" if torch.cuda.is_available() else \"cpu\"\n",
    "        config.training.device = device\n",
    "    \n",
    "# Dataloaders\n",
    "train_loader, val_loader = get_dataloaders(config)"
   ]
  },
  {
   "cell_type": "code",
   "execution_count": 3,
   "id": "b355edc7",
   "metadata": {},
   "outputs": [],
   "source": [
    "# Modelo\n",
    "model = get_model(config.model).to(config.training.device)\n",
    "\n",
    "# Loss, Optimizer y Scheduler\n",
    "criterion = get_loss(config.loss)\n",
    "optimizer= get_optimizer(config.optimizer, model.parameters())\n",
    "scheduler = get_scheduler(config.scheduler, optimizer)\n",
    "callbacks = get_callbacks(config.callbacks)\n",
    "metrics = get_metrics(config.metrics)"
   ]
  },
  {
   "cell_type": "code",
   "execution_count": null,
   "id": "77e26e8f",
   "metadata": {},
   "outputs": [
    {
     "name": "stderr",
     "output_type": "stream",
     "text": [
      "2025-05-06 01:54:37,886 - {'Epoch': 1, 'Train_loss': '2.1758', 'Val_loss': '2.1698', 'LR': '1.00e-02', 'val_f1': '0.3438'}\n",
      "2025-05-06 01:56:12,232 - {'Epoch': 2, 'Train_loss': '1.7166', 'Val_loss': '1.5303', 'LR': '1.00e-02', 'val_f1': '0.2188'}\n",
      "2025-05-06 01:57:47,005 - {'Epoch': 3, 'Train_loss': '1.3069', 'Val_loss': '1.4370', 'LR': '1.00e-02', 'val_f1': '0.4321'}\n",
      "2025-05-06 01:59:20,857 - {'Epoch': 4, 'Train_loss': '1.0649', 'Val_loss': '1.0987', 'LR': '1.00e-02', 'val_f1': '0.5677'}\n",
      "2025-05-06 02:00:55,331 - {'Epoch': 5, 'Train_loss': '0.9229', 'Val_loss': '1.0651', 'LR': '1.00e-02', 'val_f1': '0.5646'}\n",
      "2025-05-06 02:02:30,266 - {'Epoch': 6, 'Train_loss': '0.8410', 'Val_loss': '1.1195', 'LR': '1.00e-02', 'val_f1': '0.5458'}\n",
      "2025-05-06 02:04:04,333 - {'Epoch': 7, 'Train_loss': '0.7771', 'Val_loss': '0.9895', 'LR': '1.00e-02', 'val_f1': '0.6821'}\n",
      "2025-05-06 02:05:39,063 - {'Epoch': 8, 'Train_loss': '0.7372', 'Val_loss': '1.0875', 'LR': '1.00e-02', 'val_f1': '0.8732'}\n",
      "2025-05-06 02:07:13,817 - {'Epoch': 9, 'Train_loss': '0.6987', 'Val_loss': '0.9833', 'LR': '1.00e-02', 'val_f1': '0.7155'}\n",
      "Val Epoch 10:   0%|                                                          | 0/40 [00:00<?, ?it/s]"
     ]
    }
   ],
   "source": [
    "# Entrenador\n",
    "trainer = BaseTrainer(model, criterion, optimizer, scheduler, config, logger, callbacks, metrics)\n",
    "trainer.train(train_loader, val_loader)"
   ]
  },
  {
   "cell_type": "code",
   "execution_count": null,
   "id": "c760939e",
   "metadata": {},
   "outputs": [],
   "source": [
    "len(trainer.optimizer.param_groups[0])"
   ]
  },
  {
   "cell_type": "code",
   "execution_count": null,
   "id": "c490ee7f",
   "metadata": {},
   "outputs": [
    {
     "name": "stderr",
     "output_type": "stream",
     "text": [
      "c:\\Users\\inaki.campo\\Desktop\\sw-backend\\test\\Experimentos Generación\\utils\\load_checkpoint.py:5: FutureWarning: You are using `torch.load` with `weights_only=False` (the current default value), which uses the default pickle module implicitly. It is possible to construct malicious pickle data which will execute arbitrary code during unpickling (See https://github.com/pytorch/pytorch/blob/main/SECURITY.md#untrusted-models for more details). In a future release, the default value for `weights_only` will be flipped to `True`. This limits the functions that could be executed during unpickling. Arbitrary objects will no longer be allowed to be loaded via this mode unless they are explicitly allowlisted by the user via `torch.serialization.add_safe_globals`. We recommend you start setting `weights_only=True` for any use case where you don't have full control of the loaded file. Please open an issue on GitHub for any issues related to this experimental feature.\n",
      "  checkpoint = torch.load(f\"checkpoints/{config.experiment_id}/best.pth\", map_location=config.training.device)\n"
     ]
    },
    {
     "data": {
      "text/plain": [
       "<All keys matched successfully>"
      ]
     },
     "execution_count": 4,
     "metadata": {},
     "output_type": "execute_result"
    }
   ],
   "source": [
    "# cargar el mejor checkpoint sobre validación en el modelo, cuya referencia ya se encuentra en el trainer\n",
    "load_checkpoint(model, config)\n",
    "\n",
    "# Evaluar métricas en el conjunto de validación\n",
    "val_metrics = trainer.run_epoch(val_loader, training=False)\n",
    "\n",
    "# Evaluar métricas en el conjunto de test"
   ]
  },
  {
   "cell_type": "code",
   "execution_count": null,
   "id": "66a24fd8",
   "metadata": {},
   "outputs": [],
   "source": []
  }
 ],
 "metadata": {
  "kernelspec": {
   "display_name": "cicero",
   "language": "python",
   "name": "python3"
  },
  "language_info": {
   "codemirror_mode": {
    "name": "ipython",
    "version": 3
   },
   "file_extension": ".py",
   "mimetype": "text/x-python",
   "name": "python",
   "nbconvert_exporter": "python",
   "pygments_lexer": "ipython3",
   "version": "3.10.14"
  }
 },
 "nbformat": 4,
 "nbformat_minor": 5
}
