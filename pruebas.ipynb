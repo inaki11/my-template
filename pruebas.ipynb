{
 "cells": [
  {
   "cell_type": "code",
   "execution_count": 1,
   "id": "0a16c0a0",
   "metadata": {},
   "outputs": [],
   "source": [
    "from omegaconf import OmegaConf\n",
    "import argparse\n",
    "from models import get_model\n",
    "from data import get_dataloaders\n",
    "from optimizers import get_optimizer\n",
    "from losses import get_loss\n",
    "from schedulers import get_scheduler\n",
    "from metrics import get_metrics\n",
    "from callbacks import get_callbacks\n",
    "from trainers.base_trainer import BaseTrainer\n",
    "from loggers import setup_logger, get_output_logger\n",
    "from utils.loggers import setup_logger\n",
    "from utils.seed import seed_everything\n",
    "from utils.get_experiment_id import get_experiment_id\n",
    "from utils.load_checkpoint import load_checkpoint\n",
    "from utils.wandb_login import wandb_login\n",
    "from utils.filter_wrong_predictions import filter_wrong_predictions\n",
    "import torch\n",
    "import wandb"
   ]
  },
  {
   "cell_type": "code",
   "execution_count": 2,
   "id": "4ee1f696",
   "metadata": {},
   "outputs": [
    {
     "name": "stderr",
     "output_type": "stream",
     "text": [
      "2025-05-09 09:49:40,359 - Configuración cargada:\n",
      "2025-05-09 09:49:40,365 - dataset:\n",
      "  name: CIFAR10\n",
      "  root: ./data/datasets\n",
      "  batch_size: 256\n",
      "  num_workers: 4\n",
      "model:\n",
      "  name: resnet18\n",
      "  weights: ResNet18_Weights.DEFAULT\n",
      "  num_classes: 10\n",
      "preprocessing:\n",
      "- name: to_tensor\n",
      "- name: random_horizontal_flip\n",
      "  probability: 0.5\n",
      "- name: random_crop\n",
      "  padding: 4\n",
      "  size: 32\n",
      "  probability: 0.2\n",
      "loss:\n",
      "  name: cross_entropy\n",
      "optimizer:\n",
      "  name: adam\n",
      "  lr: 0.001\n",
      "  weight_decay: 0.0001\n",
      "  scheduler: step\n",
      "  step_size: 10\n",
      "  gamma: 0.1\n",
      "training:\n",
      "  epochs: 1\n",
      "  batch_size: 256\n",
      "  num_workers: 4\n",
      "  seed: 42\n",
      "  device: cuda\n",
      "  log_dir: logs\n",
      "scheduler:\n",
      "  name: reduce_on_plateau\n",
      "  patience: 1\n",
      "  factor: 0.1\n",
      "metrics:\n",
      "- name: f1_score\n",
      "  average: weighted\n",
      "callbacks:\n",
      "- name: checkpoint\n",
      "  dirpath: checkpoints/\n",
      "  monitor: Val_loss\n",
      "  mode: min\n",
      "- name: wandb_logger\n",
      "  project: my_project\n",
      "  entity: inaki\n",
      "output_logger:\n",
      "  name: wandb_img_output_errors\n",
      "experiment_id: resnet18_ab53919c\n",
      "\n"
     ]
    },
    {
     "name": "stdout",
     "output_type": "stream",
     "text": [
      "Files already downloaded and verified\n",
      "Files already downloaded and verified\n",
      "Files already downloaded and verified\n",
      "Compose([<data.preprocessing.to_tensor.ToTensor object at 0x00000191A6C76500>, <data.preprocessing.random_horizontal_flip.RandomHorizontalFlip object at 0x00000191A6C767D0>, <data.preprocessing.random_crop.RandomCrop object at 0x00000191A6C76830>])\n"
     ]
    }
   ],
   "source": [
    "config = OmegaConf.load('configs/example.yaml')\n",
    "config.experiment_id = get_experiment_id(config)\n",
    "seed_everything(config.training.seed)\n",
    "logger = setup_logger()\n",
    "logger.info(\"Configuración cargada:\")\n",
    "logger.info(OmegaConf.to_yaml(config))\n",
    "\n",
    "# Configuración cuda                            \n",
    "# TO DO: Cambiarlo a una forma mas adecuada, y seleccionar la gpu que se quiera usar\n",
    "if config.training.device == \"cuda\":\n",
    "        device = \"cuda\" if torch.cuda.is_available() else \"cpu\"\n",
    "        config.training.device = device\n",
    "    \n",
    "# Dataloaders\n",
    "train_loader, val_loader, test_loader = get_dataloaders(config)\n",
    "\n",
    "print(train_loader.dataset.dataset.transform)"
   ]
  },
  {
   "cell_type": "code",
   "execution_count": 3,
   "id": "b355edc7",
   "metadata": {},
   "outputs": [
    {
     "name": "stderr",
     "output_type": "stream",
     "text": [
      "\u001b[34m\u001b[1mwandb\u001b[0m: Using wandb-core as the SDK backend. Please refer to https://wandb.me/wandb-core for more information.\n"
     ]
    },
    {
     "name": "stdout",
     "output_type": "stream",
     "text": [
      "Run name: resnet18_ab53919c\n"
     ]
    },
    {
     "name": "stderr",
     "output_type": "stream",
     "text": [
      "\u001b[34m\u001b[1mwandb\u001b[0m: Currently logged in as: \u001b[33minakitodc\u001b[0m (\u001b[33minaki\u001b[0m). Use \u001b[1m`wandb login --relogin`\u001b[0m to force relogin\n"
     ]
    },
    {
     "data": {
      "text/html": [
       "Tracking run with wandb version 0.18.3"
      ],
      "text/plain": [
       "<IPython.core.display.HTML object>"
      ]
     },
     "metadata": {},
     "output_type": "display_data"
    },
    {
     "data": {
      "text/html": [
       "Run data is saved locally in <code>wandb\\wandb\\run-20250509_094947-ojoq1rm5</code>"
      ],
      "text/plain": [
       "<IPython.core.display.HTML object>"
      ]
     },
     "metadata": {},
     "output_type": "display_data"
    },
    {
     "data": {
      "text/html": [
       "Syncing run <strong><a href='https://wandb.ai/inaki/my_project/runs/ojoq1rm5' target=\"_blank\">resnet18_ab53919c</a></strong> to <a href='https://wandb.ai/inaki/my_project' target=\"_blank\">Weights & Biases</a> (<a href='https://wandb.me/run' target=\"_blank\">docs</a>)<br/>"
      ],
      "text/plain": [
       "<IPython.core.display.HTML object>"
      ]
     },
     "metadata": {},
     "output_type": "display_data"
    },
    {
     "data": {
      "text/html": [
       " View project at <a href='https://wandb.ai/inaki/my_project' target=\"_blank\">https://wandb.ai/inaki/my_project</a>"
      ],
      "text/plain": [
       "<IPython.core.display.HTML object>"
      ]
     },
     "metadata": {},
     "output_type": "display_data"
    },
    {
     "data": {
      "text/html": [
       " View run at <a href='https://wandb.ai/inaki/my_project/runs/ojoq1rm5' target=\"_blank\">https://wandb.ai/inaki/my_project/runs/ojoq1rm5</a>"
      ],
      "text/plain": [
       "<IPython.core.display.HTML object>"
      ]
     },
     "metadata": {},
     "output_type": "display_data"
    },
    {
     "name": "stderr",
     "output_type": "stream",
     "text": [
      "                                                                                                    \r"
     ]
    },
    {
     "ename": "KeyboardInterrupt",
     "evalue": "",
     "output_type": "error",
     "traceback": [
      "\u001b[1;31m---------------------------------------------------------------------------\u001b[0m",
      "\u001b[1;31mKeyboardInterrupt\u001b[0m                         Traceback (most recent call last)",
      "Cell \u001b[1;32mIn[3], line 15\u001b[0m\n\u001b[0;32m     11\u001b[0m \u001b[38;5;66;03m# Entrenador\u001b[39;00m\n\u001b[0;32m     12\u001b[0m trainer \u001b[38;5;241m=\u001b[39m BaseTrainer(\n\u001b[0;32m     13\u001b[0m    model, criterion, optimizer, scheduler, config, logger, callbacks, metrics\n\u001b[0;32m     14\u001b[0m )\n\u001b[1;32m---> 15\u001b[0m \u001b[43mtrainer\u001b[49m\u001b[38;5;241;43m.\u001b[39;49m\u001b[43mtrain\u001b[49m\u001b[43m(\u001b[49m\u001b[43mtrain_loader\u001b[49m\u001b[43m,\u001b[49m\u001b[43m \u001b[49m\u001b[43mval_loader\u001b[49m\u001b[43m)\u001b[49m\n",
      "File \u001b[1;32mc:\\Users\\inaki.campo\\Desktop\\sw-backend\\test\\Experimentos Generación\\my-template\\trainers\\base_trainer.py:39\u001b[0m, in \u001b[0;36mBaseTrainer.train\u001b[1;34m(self, train_loader, val_loader)\u001b[0m\n\u001b[0;32m     36\u001b[0m \u001b[38;5;28;01mfor\u001b[39;00m epoch \u001b[38;5;129;01min\u001b[39;00m \u001b[38;5;28mrange\u001b[39m(num_epochs):\n\u001b[0;32m     37\u001b[0m     \u001b[38;5;28mself\u001b[39m\u001b[38;5;241m.\u001b[39mepoch \u001b[38;5;241m=\u001b[39m epoch\n\u001b[1;32m---> 39\u001b[0m     \u001b[38;5;28mself\u001b[39m\u001b[38;5;241m.\u001b[39mtrain_metrics \u001b[38;5;241m=\u001b[39m \u001b[38;5;28;43mself\u001b[39;49m\u001b[38;5;241;43m.\u001b[39;49m\u001b[43mrun_epoch\u001b[49m\u001b[43m(\u001b[49m\u001b[43mtrain_loader\u001b[49m\u001b[43m,\u001b[49m\u001b[43m \u001b[49m\u001b[43mmode\u001b[49m\u001b[38;5;241;43m=\u001b[39;49m\u001b[38;5;124;43m\"\u001b[39;49m\u001b[38;5;124;43mTrain\u001b[39;49m\u001b[38;5;124;43m\"\u001b[39;49m\u001b[43m)\u001b[49m\n\u001b[0;32m     40\u001b[0m     \u001b[38;5;28;01mfor\u001b[39;00m cb \u001b[38;5;129;01min\u001b[39;00m \u001b[38;5;28mself\u001b[39m\u001b[38;5;241m.\u001b[39mcallbacks:\n\u001b[0;32m     41\u001b[0m         cb\u001b[38;5;241m.\u001b[39mon_epoch_end(\u001b[38;5;28mself\u001b[39m)\n",
      "File \u001b[1;32mc:\\Users\\inaki.campo\\Desktop\\sw-backend\\test\\Experimentos Generación\\my-template\\trainers\\base_trainer.py:86\u001b[0m, in \u001b[0;36mBaseTrainer.run_epoch\u001b[1;34m(self, loader, mode, return_preds)\u001b[0m\n\u001b[0;32m     83\u001b[0m     loss\u001b[38;5;241m.\u001b[39mbackward()\n\u001b[0;32m     84\u001b[0m     \u001b[38;5;28mself\u001b[39m\u001b[38;5;241m.\u001b[39moptimizer\u001b[38;5;241m.\u001b[39mstep()\n\u001b[1;32m---> 86\u001b[0m total_loss \u001b[38;5;241m+\u001b[39m\u001b[38;5;241m=\u001b[39m \u001b[43mloss\u001b[49m\u001b[38;5;241;43m.\u001b[39;49m\u001b[43mitem\u001b[49m\u001b[43m(\u001b[49m\u001b[43m)\u001b[49m\n\u001b[0;32m     87\u001b[0m total_batches \u001b[38;5;241m+\u001b[39m\u001b[38;5;241m=\u001b[39m \u001b[38;5;241m1\u001b[39m\n\u001b[0;32m     89\u001b[0m pbar\u001b[38;5;241m.\u001b[39mset_postfix({\u001b[38;5;124m\"\u001b[39m\u001b[38;5;124mLoss\u001b[39m\u001b[38;5;124m\"\u001b[39m: \u001b[38;5;124mf\u001b[39m\u001b[38;5;124m\"\u001b[39m\u001b[38;5;132;01m{\u001b[39;00mloss\u001b[38;5;241m.\u001b[39mitem()\u001b[38;5;132;01m:\u001b[39;00m\u001b[38;5;124m.4f\u001b[39m\u001b[38;5;132;01m}\u001b[39;00m\u001b[38;5;124m\"\u001b[39m})\n",
      "\u001b[1;31mKeyboardInterrupt\u001b[0m: "
     ]
    }
   ],
   "source": [
    " # Modelo\n",
    "model = get_model(config.model).to(config.training.device)\n",
    "\n",
    "# Loss, Optimizer, Scheduler, Callbacks y metrics\n",
    "criterion = get_loss(config.loss)\n",
    "optimizer = get_optimizer(config.optimizer, model.parameters())\n",
    "scheduler = get_scheduler(config.scheduler, optimizer)\n",
    "callbacks = get_callbacks(config.callbacks)\n",
    "metrics = get_metrics(config.metrics)\n",
    "\n",
    "# Entrenador\n",
    "trainer = BaseTrainer(\n",
    "    model, criterion, optimizer, scheduler, config, logger, callbacks, metrics\n",
    ")\n",
    "trainer.train(train_loader, val_loader)"
   ]
  },
  {
   "cell_type": "code",
   "execution_count": null,
   "id": "c490ee7f",
   "metadata": {},
   "outputs": [
    {
     "name": "stderr",
     "output_type": "stream",
     "text": [
      "c:\\Users\\inaki.campo\\Desktop\\sw-backend\\test\\Experimentos Generación\\my-template\\utils\\load_checkpoint.py:5: FutureWarning: You are using `torch.load` with `weights_only=False` (the current default value), which uses the default pickle module implicitly. It is possible to construct malicious pickle data which will execute arbitrary code during unpickling (See https://github.com/pytorch/pytorch/blob/main/SECURITY.md#untrusted-models for more details). In a future release, the default value for `weights_only` will be flipped to `True`. This limits the functions that could be executed during unpickling. Arbitrary objects will no longer be allowed to be loaded via this mode unless they are explicitly allowlisted by the user via `torch.serialization.add_safe_globals`. We recommend you start setting `weights_only=True` for any use case where you don't have full control of the loaded file. Please open an issue on GitHub for any issues related to this experimental feature.\n",
      "  checkpoint = torch.load(f\"checkpoints/{config.experiment_id}/best.pth\", map_location=config.training.device)\n",
      "                                                                                                    \r"
     ]
    },
    {
     "name": "stdout",
     "output_type": "stream",
     "text": [
      "Métricas de validación:\n",
      "{'Val_loss': 0.8249986469745636, 'Val_f1': 0.7286274831820247}\n"
     ]
    }
   ],
   "source": [
    "# cargar el mejor checkpoint sobre validación en el modelo, cuya referencia ya se encuentra en el trainer\n",
    "load_checkpoint(model, config)\n",
    "\n",
    "# Evaluar métricas en el conjunto de validación\n",
    "val_metrics, inputs, outputs, targets = trainer.run_epoch(\n",
    "    val_loader, mode=\"Val\", return_preds=True\n",
    ")\n",
    "print(\"Métricas de validación:\")\n",
    "print(val_metrics)\n",
    "\n",
    "# TO DO: loggear inputs, outputs y targets en wandb\n",
    "# classes_names for cifar10\n",
    "label_names = [\n",
    "    \"airplane\",\n",
    "    \"automobile\",\n",
    "    \"bird\",\n",
    "    \"cat\",\n",
    "    \"deer\",\n",
    "    \"dog\",\n",
    "    \"frog\",\n",
    "    \"horse\",\n",
    "    \"ship\",\n",
    "    \"truck\",\n",
    "]\n",
    "inputs, outputs, targets = filter_wrong_predictions(inputs, outputs, targets)\n",
    "output_logger = get_output_logger(config.output_logger)\n",
    "output_logger(inputs, outputs, targets, label_names)\n"
   ]
  },
  {
   "cell_type": "code",
   "execution_count": null,
   "id": "66a24fd8",
   "metadata": {},
   "outputs": [
    {
     "data": {
      "text/html": [
       "<style>\n",
       "    table.wandb td:nth-child(1) { padding: 0 10px; text-align: left ; width: auto;} td:nth-child(2) {text-align: left ; width: 100%}\n",
       "    .wandb-row { display: flex; flex-direction: row; flex-wrap: wrap; justify-content: flex-start; width: 100% }\n",
       "    .wandb-col { display: flex; flex-direction: column; flex-basis: 100%; flex: 1; padding: 10px; }\n",
       "    </style>\n",
       "<div class=\"wandb-row\"><div class=\"wandb-col\"><h3>Run history:</h3><br/><table class=\"wandb\"><tr><td>Val_f1</td><td>▁</td></tr><tr><td>Val_loss</td><td>▁</td></tr></table><br/></div><div class=\"wandb-col\"><h3>Run summary:</h3><br/><table class=\"wandb\"><tr><td>Train_loss</td><td>0.8685</td></tr><tr><td>Val_f1</td><td>0.62173</td></tr><tr><td>Val_loss</td><td>0.825</td></tr><tr><td>lr</td><td>1.00e-03</td></tr></table><br/></div></div>"
      ],
      "text/plain": [
       "<IPython.core.display.HTML object>"
      ]
     },
     "metadata": {},
     "output_type": "display_data"
    },
    {
     "data": {
      "text/html": [
       " View run <strong style=\"color:#cdcd00\">resnet18_855505a2</strong> at: <a href='https://wandb.ai/inaki/my_project/runs/jp7mu2he' target=\"_blank\">https://wandb.ai/inaki/my_project/runs/jp7mu2he</a><br/> View project at: <a href='https://wandb.ai/inaki/my_project' target=\"_blank\">https://wandb.ai/inaki/my_project</a><br/>Synced 5 W&B file(s), 0 media file(s), 0 artifact file(s) and 5 other file(s)"
      ],
      "text/plain": [
       "<IPython.core.display.HTML object>"
      ]
     },
     "metadata": {},
     "output_type": "display_data"
    },
    {
     "data": {
      "text/html": [
       "Find logs at: <code>wandb\\wandb\\run-20250507_005244-jp7mu2he\\logs</code>"
      ],
      "text/plain": [
       "<IPython.core.display.HTML object>"
      ]
     },
     "metadata": {},
     "output_type": "display_data"
    }
   ],
   "source": [
    "wandb.finish()"
   ]
  }
 ],
 "metadata": {
  "kernelspec": {
   "display_name": "cicero",
   "language": "python",
   "name": "python3"
  },
  "language_info": {
   "codemirror_mode": {
    "name": "ipython",
    "version": 3
   },
   "file_extension": ".py",
   "mimetype": "text/x-python",
   "name": "python",
   "nbconvert_exporter": "python",
   "pygments_lexer": "ipython3",
   "version": "3.10.14"
  }
 },
 "nbformat": 4,
 "nbformat_minor": 5
}
